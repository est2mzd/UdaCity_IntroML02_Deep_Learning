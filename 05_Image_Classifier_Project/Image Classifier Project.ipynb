{
 "cells": [
  {
   "cell_type": "markdown",
   "metadata": {},
   "source": [
    "# Developing an AI application\n",
    "\n",
    "Going forward, AI algorithms will be incorporated into more and more everyday applications. For example, you might want to include an image classifier in a smart phone app. To do this, you'd use a deep learning model trained on hundreds of thousands of images as part of the overall application architecture. A large part of software development in the future will be using these types of models as common parts of applications. \n",
    "\n",
    "In this project, you'll train an image classifier to recognize different species of flowers. You can imagine using something like this in a phone app that tells you the name of the flower your camera is looking at. In practice you'd train this classifier, then export it for use in your application. We'll be using [this dataset](http://www.robots.ox.ac.uk/~vgg/data/flowers/102/index.html) of 102 flower categories, you can see a few examples below. \n",
    "\n",
    "<img src='assets/Flowers.png' width=500px>\n",
    "\n",
    "The project is broken down into multiple steps:\n",
    "\n",
    "* Load and preprocess the image dataset\n",
    "* Train the image classifier on your dataset\n",
    "* Use the trained classifier to predict image content\n",
    "\n",
    "We'll lead you through each part which you'll implement in Python.\n",
    "\n",
    "When you've completed this project, you'll have an application that can be trained on any set of labeled images. Here your network will be learning about flowers and end up as a command line application. But, what you do with your new skills depends on your imagination and effort in building a dataset. For example, imagine an app where you take a picture of a car, it tells you what the make and model is, then looks up information about it. Go build your own dataset and make something new.\n",
    "\n",
    "First up is importing the packages you'll need. It's good practice to keep all the imports at the beginning of your code. As you work through this notebook and find you need to import a package, make sure to add the import up here."
   ]
  },
  {
   "cell_type": "code",
   "execution_count": 1,
   "metadata": {},
   "outputs": [],
   "source": [
    "# Imports here\n",
    "import torch\n",
    "from torch import nn\n",
    "from torch import optim\n",
    "import torch.nn.functional as F\n",
    "from torchvision import datasets, transforms, models\n",
    "\n",
    "import time\n",
    "import matplotlib.pyplot as plt\n",
    "%matplotlib inline\n",
    "\n",
    "from PIL import Image\n",
    "import numpy as np\n",
    "\n",
    "import pandas as pd\n",
    "from pandas import Series\n",
    "import json\n",
    "\n",
    "from  my_library_deep_learning import *"
   ]
  },
  {
   "cell_type": "markdown",
   "metadata": {},
   "source": [
    "## Load the data\n",
    "\n",
    "Here you'll use `torchvision` to load the data ([documentation](http://pytorch.org/docs/master/torchvision/transforms.html#)). The data should be included alongside this notebook, otherwise you can [download it here](https://s3.amazonaws.com/content.udacity-data.com/nd089/flower_data.tar.gz). The dataset is split into three parts, training, validation, and testing. For the training, you'll want to apply transformations such as random scaling, cropping, and flipping. This will help the network generalize leading to better performance. You'll also need to make sure the input data is resized to 224x224 pixels as required by the pre-trained networks.\n",
    "\n",
    "The validation and testing sets are used to measure the model's performance on data it hasn't seen yet. For this you don't want any scaling or rotation transformations, but you'll need to resize then crop the images to the appropriate size.\n",
    "\n",
    "For all three sets you'll need to normalize the means and standard deviations of the images to what the network expects. For the means, it's `[0.485, 0.456, 0.406]` and for the standard deviations `[0.229, 0.224, 0.225]`. This converts the values of each color channel to be between -1 and 1 instead of 0 and 1."
   ]
  },
  {
   "cell_type": "code",
   "execution_count": 2,
   "metadata": {},
   "outputs": [],
   "source": [
    "data_dir  = 'flowers'\n",
    "train_dir = data_dir + '/train'\n",
    "valid_dir = data_dir + '/valid'\n",
    "test_dir  = data_dir + '/test'"
   ]
  },
  {
   "cell_type": "code",
   "execution_count": 3,
   "metadata": {},
   "outputs": [],
   "source": [
    "# TODO: Define your transforms for the training, validation, and testing sets\n",
    "data_transforms = transforms.Compose([transforms.RandomRotation(30),\n",
    "                                      transforms.RandomResizedCrop(224),\n",
    "                                      transforms.RandomHorizontalFlip(),\n",
    "                                      transforms.ToTensor(),\n",
    "                                      transforms.Normalize([0.485, 0.456, 0.406],\n",
    "                                                           [0.229, 0.224, 0.225])])\n",
    "\n",
    "test_transforms = transforms.Compose([transforms.Resize(255),\n",
    "                                      transforms.CenterCrop(224),\n",
    "                                      transforms.ToTensor(),\n",
    "                                      transforms.Normalize([0.485, 0.456, 0.406],\n",
    "                                                           [0.229, 0.224, 0.225])])\n",
    "    \n",
    "    \n",
    "# TODO: Load the datasets with ImageFolder\n",
    "image_datasets = datasets.ImageFolder(data_dir + '/train', transform=data_transforms)\n",
    "valid_datasets = datasets.ImageFolder(data_dir + '/valid', transform=test_transforms)\n",
    "test_datasets  = datasets.ImageFolder(data_dir + '/test',  transform=test_transforms)\n",
    "\n",
    "# TODO: Using the image datasets and the trainforms, define the dataloaders\n",
    "dataloaders   = torch.utils.data.DataLoader(image_datasets, batch_size=64, shuffle=True)\n",
    "valid_loaders = torch.utils.data.DataLoader(valid_datasets, batch_size=64, shuffle=True)\n",
    "test_loaders  = torch.utils.data.DataLoader(test_datasets,  batch_size=64, shuffle=True)"
   ]
  },
  {
   "cell_type": "markdown",
   "metadata": {},
   "source": [
    "### Label mapping\n",
    "\n",
    "You'll also need to load in a mapping from category label to category name. You can find this in the file `cat_to_name.json`. It's a JSON object which you can read in with the [`json` module](https://docs.python.org/2/library/json.html). This will give you a dictionary mapping the integer encoded categories to the actual names of the flowers."
   ]
  },
  {
   "cell_type": "code",
   "execution_count": 4,
   "metadata": {},
   "outputs": [],
   "source": [
    "import json\n",
    "\n",
    "with open('cat_to_name.json', 'r') as f:\n",
    "    cat_to_name = json.load(f)"
   ]
  },
  {
   "cell_type": "markdown",
   "metadata": {},
   "source": [
    "# Building and training the classifier\n",
    "\n",
    "Now that the data is ready, it's time to build and train the classifier. As usual, you should use one of the pretrained models from `torchvision.models` to get the image features. Build and train a new feed-forward classifier using those features.\n",
    "\n",
    "We're going to leave this part up to you. If you want to talk through it with someone, chat with your fellow students! You can also ask questions on the forums or join the instructors in office hours.\n",
    "\n",
    "Refer to [the rubric](https://review.udacity.com/#!/rubrics/1663/view) for guidance on successfully completing this section. Things you'll need to do:\n",
    "\n",
    "* Load a [pre-trained network](http://pytorch.org/docs/master/torchvision/models.html) (If you need a starting point, the VGG networks work great and are straightforward to use)\n",
    "* Define a new, untrained feed-forward network as a classifier, using ReLU activations and dropout\n",
    "* Train the classifier layers using backpropagation using the pre-trained network to get the features\n",
    "* Track the loss and accuracy on the validation set to determine the best hyperparameters\n",
    "\n",
    "We've left a cell open for you below, but use as many as you need. Our advice is to break the problem up into smaller parts you can run separately. Check that each part is doing what you expect, then move on to the next. You'll likely find that as you work through each part, you'll need to go back and modify your previous code. This is totally normal!\n",
    "\n",
    "When training make sure you're updating only the weights of the feed-forward network. You should be able to get the validation accuracy above 70% if you build everything right. Make sure to try different hyperparameters (learning rate, units in the classifier, epochs, etc) to find the best model. Save those hyperparameters to use as default values in the next part of the project."
   ]
  },
  {
   "cell_type": "code",
   "execution_count": 5,
   "metadata": {},
   "outputs": [
    {
     "name": "stdout",
     "output_type": "stream",
     "text": [
      "VGG(\n",
      "  (features): Sequential(\n",
      "    (0): Conv2d(3, 64, kernel_size=(3, 3), stride=(1, 1), padding=(1, 1))\n",
      "    (1): ReLU(inplace)\n",
      "    (2): Conv2d(64, 64, kernel_size=(3, 3), stride=(1, 1), padding=(1, 1))\n",
      "    (3): ReLU(inplace)\n",
      "    (4): MaxPool2d(kernel_size=2, stride=2, padding=0, dilation=1, ceil_mode=False)\n",
      "    (5): Conv2d(64, 128, kernel_size=(3, 3), stride=(1, 1), padding=(1, 1))\n",
      "    (6): ReLU(inplace)\n",
      "    (7): Conv2d(128, 128, kernel_size=(3, 3), stride=(1, 1), padding=(1, 1))\n",
      "    (8): ReLU(inplace)\n",
      "    (9): MaxPool2d(kernel_size=2, stride=2, padding=0, dilation=1, ceil_mode=False)\n",
      "    (10): Conv2d(128, 256, kernel_size=(3, 3), stride=(1, 1), padding=(1, 1))\n",
      "    (11): ReLU(inplace)\n",
      "    (12): Conv2d(256, 256, kernel_size=(3, 3), stride=(1, 1), padding=(1, 1))\n",
      "    (13): ReLU(inplace)\n",
      "    (14): Conv2d(256, 256, kernel_size=(3, 3), stride=(1, 1), padding=(1, 1))\n",
      "    (15): ReLU(inplace)\n",
      "    (16): MaxPool2d(kernel_size=2, stride=2, padding=0, dilation=1, ceil_mode=False)\n",
      "    (17): Conv2d(256, 512, kernel_size=(3, 3), stride=(1, 1), padding=(1, 1))\n",
      "    (18): ReLU(inplace)\n",
      "    (19): Conv2d(512, 512, kernel_size=(3, 3), stride=(1, 1), padding=(1, 1))\n",
      "    (20): ReLU(inplace)\n",
      "    (21): Conv2d(512, 512, kernel_size=(3, 3), stride=(1, 1), padding=(1, 1))\n",
      "    (22): ReLU(inplace)\n",
      "    (23): MaxPool2d(kernel_size=2, stride=2, padding=0, dilation=1, ceil_mode=False)\n",
      "    (24): Conv2d(512, 512, kernel_size=(3, 3), stride=(1, 1), padding=(1, 1))\n",
      "    (25): ReLU(inplace)\n",
      "    (26): Conv2d(512, 512, kernel_size=(3, 3), stride=(1, 1), padding=(1, 1))\n",
      "    (27): ReLU(inplace)\n",
      "    (28): Conv2d(512, 512, kernel_size=(3, 3), stride=(1, 1), padding=(1, 1))\n",
      "    (29): ReLU(inplace)\n",
      "    (30): MaxPool2d(kernel_size=2, stride=2, padding=0, dilation=1, ceil_mode=False)\n",
      "  )\n",
      "  (avgpool): AdaptiveAvgPool2d(output_size=(7, 7))\n",
      "  (classifier): Sequential(\n",
      "    (0): Linear(in_features=25088, out_features=4096, bias=True)\n",
      "    (1): ReLU()\n",
      "    (2): Dropout(p=0.2)\n",
      "    (3): Linear(in_features=4096, out_features=1000, bias=True)\n",
      "    (4): ReLU()\n",
      "    (5): Dropout(p=0.2)\n",
      "    (6): Linear(in_features=1000, out_features=102, bias=True)\n",
      "    (7): LogSoftmax()\n",
      "  )\n",
      ")\n"
     ]
    }
   ],
   "source": [
    "# TODO: Build and train your network\n",
    "model, optimizer = createMyVgg(dropout=0.2, lr=0.001)\n",
    "print(model)"
   ]
  },
  {
   "cell_type": "code",
   "execution_count": 6,
   "metadata": {},
   "outputs": [],
   "source": [
    "# create an instance of the loss\n",
    "criterion = nn.NLLLoss()\n",
    "\n",
    "# send the model to gpu\n",
    "device = torch.device(\"cuda:0\" if torch.cuda.is_available() else \"cpu\")\n",
    "model.to(device);"
   ]
  },
  {
   "cell_type": "code",
   "execution_count": 7,
   "metadata": {},
   "outputs": [
    {
     "name": "stdout",
     "output_type": "stream",
     "text": [
      "Epoch      : 1/15\n",
      "Time       : 110\n",
      "Train_Loss : 2.7937312\n",
      "Test_Loss  : 1.0594569\n",
      "Accuracy   : 0.7090865\n",
      "-----------------------------\n",
      "Epoch      : 2/15\n",
      "Time       : 109\n",
      "Train_Loss : 1.3127595\n",
      "Test_Loss  : 0.7622008\n",
      "Accuracy   : 0.7964423\n",
      "-----------------------------\n",
      "Epoch      : 3/15\n",
      "Time       : 109\n",
      "Train_Loss : 1.0946051\n",
      "Test_Loss  : 0.5578987\n",
      "Accuracy   : 0.8585577\n",
      "-----------------------------\n",
      "Epoch      : 4/15\n",
      "Time       : 110\n",
      "Train_Loss : 0.9636429\n",
      "Test_Loss  : 0.5087149\n",
      "Accuracy   : 0.8643750\n",
      "-----------------------------\n",
      "Epoch      : 5/15\n",
      "Time       : 109\n",
      "Train_Loss : 0.8445716\n",
      "Test_Loss  : 0.4274428\n",
      "Accuracy   : 0.8795192\n",
      "-----------------------------\n",
      "Epoch      : 6/15\n",
      "Time       : 109\n",
      "Train_Loss : 0.7916148\n",
      "Test_Loss  : 0.4816644\n",
      "Accuracy   : 0.8596154\n",
      "-----------------------------\n",
      "Epoch      : 7/15\n",
      "Time       : 110\n",
      "Train_Loss : 0.7647268\n",
      "Test_Loss  : 0.4151430\n",
      "Accuracy   : 0.8948077\n",
      "-----------------------------\n",
      "Epoch      : 8/15\n",
      "Time       : 109\n",
      "Train_Loss : 0.7613277\n",
      "Test_Loss  : 0.4098209\n",
      "Accuracy   : 0.9006250\n",
      "-----------------------------\n",
      "Epoch      : 9/15\n",
      "Time       : 110\n",
      "Train_Loss : 0.6738614\n",
      "Test_Loss  : 0.4024062\n",
      "Accuracy   : 0.9103846\n",
      "-----------------------------\n",
      "Epoch      : 10/15\n",
      "Time       : 109\n",
      "Train_Loss : 0.6761891\n",
      "Test_Loss  : 0.4349478\n",
      "Accuracy   : 0.8958173\n",
      "-----------------------------\n",
      "Epoch      : 11/15\n",
      "Time       : 109\n",
      "Train_Loss : 0.6952341\n",
      "Test_Loss  : 0.3790579\n",
      "Accuracy   : 0.9150481\n",
      "-----------------------------\n",
      "Epoch      : 12/15\n",
      "Time       : 110\n",
      "Train_Loss : 0.6703074\n",
      "Test_Loss  : 0.4172711\n",
      "Accuracy   : 0.9061058\n",
      "-----------------------------\n",
      "Epoch      : 13/15\n",
      "Time       : 111\n",
      "Train_Loss : 0.6238538\n",
      "Test_Loss  : 0.4895988\n",
      "Accuracy   : 0.8848076\n",
      "-----------------------------\n",
      "Epoch      : 14/15\n",
      "Time       : 110\n",
      "Train_Loss : 0.6359194\n",
      "Test_Loss  : 0.4294293\n",
      "Accuracy   : 0.9016346\n",
      "-----------------------------\n",
      "Epoch      : 15/15\n",
      "Time       : 113\n",
      "Train_Loss : 0.6138010\n",
      "Test_Loss  : 0.3582286\n",
      "Accuracy   : 0.9126443\n",
      "-----------------------------\n"
     ]
    }
   ],
   "source": [
    "# preparation of variables\n",
    "epochs       = 15\n",
    "steps        = 0\n",
    "train_losses = []\n",
    "test_losses  = []\n",
    "accuracies   = []\n",
    "time_start   = time.time()\n",
    "\n",
    "for e in range(epochs):\n",
    "    time_start = time.time()\n",
    "    train_loss = 0\n",
    "    for images, labels in dataloaders:\n",
    "        # send date to the gpu\n",
    "        images, labels = images.to(device), labels.to(device)\n",
    "        \n",
    "        # preparation -2\n",
    "        optimizer.zero_grad() # initialize the gradients\n",
    "        log_ps = model(images) # Forward\n",
    "        loss   = criterion(log_ps, labels) # calculate the loss\n",
    "        loss.backward()  # calculate the gradients\n",
    "        optimizer.step() # update the weights and bias\n",
    "        train_loss += loss.item()\n",
    "            \n",
    "    else:\n",
    "        model.eval() # Dropout = OFF\n",
    "        test_loss = 0\n",
    "        accuracy  = 0\n",
    "        #\n",
    "        with torch.no_grad():\n",
    "            for images, labels in valid_loaders:\n",
    "                images, labels = images.to(device), labels.to(device)\n",
    "                log_ps = model(images) # Forward\n",
    "                loss   = criterion(log_ps, labels) # calculate the loss\n",
    "                test_loss += loss.item()\n",
    "                #\n",
    "                ps = torch.exp(log_ps)\n",
    "                top_p, top_class = ps.topk(1, dim=1)\n",
    "                equals =( top_class == labels.view(*top_class.shape))\n",
    "                accuracy += torch.mean( equals.type(torch.FloatTensor))\n",
    "\n",
    "               #from IPython.core.debugger import Pdb; Pdb().set_trace()\n",
    "\n",
    "\n",
    "        time_end  = time.time()\n",
    "        time_diff = time_end - time_start\n",
    "        #\n",
    "        model.train() # Dropout = ON\n",
    "        #\n",
    "        train_losses.append( train_loss / len(dataloaders))\n",
    "        test_losses.append(   test_loss / len(valid_loaders))\n",
    "        accuracies.append( accuracy     / len(valid_loaders))\n",
    "        #\n",
    "        print(\"Epoch      : {0}/{1}\".format(e+1, epochs))\n",
    "        print(\"Time       : {:.0f}\".format(time_diff))\n",
    "        print(\"Train_Loss : {:.7f}\".format( train_losses[-1]))\n",
    "        print(\"Test_Loss  : {:.7f}\".format( test_losses[-1]))\n",
    "        print(\"Accuracy   : {:.7f}\".format( accuracies[-1]))\n",
    "        print(\"-----------------------------\")\n",
    "        #"
   ]
  },
  {
   "cell_type": "code",
   "execution_count": 8,
   "metadata": {},
   "outputs": [
    {
     "data": {
      "image/png": "[encoded data removed]",
      "text/plain": [
       "<Figure size 432x288 with 1 Axes>"
      ]
     },
     "metadata": {
      "needs_background": "light"
     },
     "output_type": "display_data"
    }
   ],
   "source": [
    "# Check Results\n",
    "plt.plot(train_losses, label = 'train_loss')\n",
    "plt.plot(test_losses,  label = 'varidation_loss' )\n",
    "plt.legend(frameon=False)\n",
    "plt.title(\"Train vs Validation\")\n",
    "plt.grid();"
   ]
  },
  {
   "cell_type": "markdown",
   "metadata": {},
   "source": [
    "## Testing your network\n",
    "\n",
    "It's good practice to test your trained network on test data, images the network has never seen either in training or validation. This will give you a good estimate for the model's performance on completely new images. Run the test images through the network and measure the accuracy, the same way you did validation. You should be able to reach around 70% accuracy on the test set if the model has been trained well."
   ]
  },
  {
   "cell_type": "code",
   "execution_count": 9,
   "metadata": {},
   "outputs": [
    {
     "data": {
      "text/plain": [
       "VGG(\n",
       "  (features): Sequential(\n",
       "    (0): Conv2d(3, 64, kernel_size=(3, 3), stride=(1, 1), padding=(1, 1))\n",
       "    (1): ReLU(inplace)\n",
       "    (2): Conv2d(64, 64, kernel_size=(3, 3), stride=(1, 1), padding=(1, 1))\n",
       "    (3): ReLU(inplace)\n",
       "    (4): MaxPool2d(kernel_size=2, stride=2, padding=0, dilation=1, ceil_mode=False)\n",
       "    (5): Conv2d(64, 128, kernel_size=(3, 3), stride=(1, 1), padding=(1, 1))\n",
       "    (6): ReLU(inplace)\n",
       "    (7): Conv2d(128, 128, kernel_size=(3, 3), stride=(1, 1), padding=(1, 1))\n",
       "    (8): ReLU(inplace)\n",
       "    (9): MaxPool2d(kernel_size=2, stride=2, padding=0, dilation=1, ceil_mode=False)\n",
       "    (10): Conv2d(128, 256, kernel_size=(3, 3), stride=(1, 1), padding=(1, 1))\n",
       "    (11): ReLU(inplace)\n",
       "    (12): Conv2d(256, 256, kernel_size=(3, 3), stride=(1, 1), padding=(1, 1))\n",
       "    (13): ReLU(inplace)\n",
       "    (14): Conv2d(256, 256, kernel_size=(3, 3), stride=(1, 1), padding=(1, 1))\n",
       "    (15): ReLU(inplace)\n",
       "    (16): MaxPool2d(kernel_size=2, stride=2, padding=0, dilation=1, ceil_mode=False)\n",
       "    (17): Conv2d(256, 512, kernel_size=(3, 3), stride=(1, 1), padding=(1, 1))\n",
       "    (18): ReLU(inplace)\n",
       "    (19): Conv2d(512, 512, kernel_size=(3, 3), stride=(1, 1), padding=(1, 1))\n",
       "    (20): ReLU(inplace)\n",
       "    (21): Conv2d(512, 512, kernel_size=(3, 3), stride=(1, 1), padding=(1, 1))\n",
       "    (22): ReLU(inplace)\n",
       "    (23): MaxPool2d(kernel_size=2, stride=2, padding=0, dilation=1, ceil_mode=False)\n",
       "    (24): Conv2d(512, 512, kernel_size=(3, 3), stride=(1, 1), padding=(1, 1))\n",
       "    (25): ReLU(inplace)\n",
       "    (26): Conv2d(512, 512, kernel_size=(3, 3), stride=(1, 1), padding=(1, 1))\n",
       "    (27): ReLU(inplace)\n",
       "    (28): Conv2d(512, 512, kernel_size=(3, 3), stride=(1, 1), padding=(1, 1))\n",
       "    (29): ReLU(inplace)\n",
       "    (30): MaxPool2d(kernel_size=2, stride=2, padding=0, dilation=1, ceil_mode=False)\n",
       "  )\n",
       "  (avgpool): AdaptiveAvgPool2d(output_size=(7, 7))\n",
       "  (classifier): Sequential(\n",
       "    (0): Linear(in_features=25088, out_features=4096, bias=True)\n",
       "    (1): ReLU()\n",
       "    (2): Dropout(p=0.2)\n",
       "    (3): Linear(in_features=4096, out_features=1000, bias=True)\n",
       "    (4): ReLU()\n",
       "    (5): Dropout(p=0.2)\n",
       "    (6): Linear(in_features=1000, out_features=102, bias=True)\n",
       "    (7): LogSoftmax()\n",
       "  )\n",
       ")"
      ]
     },
     "execution_count": 9,
     "metadata": {},
     "output_type": "execute_result"
    }
   ],
   "source": [
    "# TODO: Do validation on the test set\n",
    "model.eval() # dropout = off\n",
    "test_loss = 0\n",
    "accuracy  = 0\n",
    "test_losses = []\n",
    "accuracies  = []\n",
    "\n",
    "with torch.no_grad():\n",
    "    for images, labels in test_loaders:\n",
    "        images, labels = images.to(device), labels.to(device)\n",
    "        log_ps = model(images)\n",
    "        #\n",
    "        loss       = criterion(log_ps, labels)\n",
    "        tmp_loss   = loss.item()\n",
    "        test_loss += tmp_loss\n",
    "        test_losses.append(tmp_loss)\n",
    "        #\n",
    "        ps     = torch.exp(log_ps)\n",
    "        top_p, top_class = ps.topk(1, dim=1)\n",
    "        equals  = (top_class == labels.view(*top_class.shape))\n",
    "        tmp_acc =  torch.mean( equals.type(torch.FloatTensor))\n",
    "        accuracy += tmp_acc\n",
    "        accuracies.append(tmp_acc)\n",
    "\n",
    "model.train() # dropout = on"
   ]
  },
  {
   "cell_type": "code",
   "execution_count": 10,
   "metadata": {},
   "outputs": [
    {
     "name": "stdout",
     "output_type": "stream",
     "text": [
      "accuracy average is  tensor(0.8819)\n"
     ]
    },
    {
     "data": {
      "image/png": "[encoded data removed]",
      "text/plain": [
       "<Figure size 432x288 with 1 Axes>"
      ]
     },
     "metadata": {
      "needs_background": "light"
     },
     "output_type": "display_data"
    }
   ],
   "source": [
    "accuracy_ave = accuracy / len(test_loaders)\n",
    "print(\"accuracy average is \", accuracy_ave)\n",
    "ave_x = [0, len(test_loaders)]\n",
    "ave_y = [accuracy_ave, accuracy_ave]\n",
    "#\n",
    "plt.plot(accuracies,   label = 'accuracy');\n",
    "plt.plot(ave_x, ave_y, label = 'average');\n",
    "plt.legend(frameon=False);\n",
    "plt.grid();\n",
    "plt.ylim([0.5,1]);"
   ]
  },
  {
   "cell_type": "markdown",
   "metadata": {},
   "source": [
    "## Save the checkpoint\n",
    "\n",
    "Now that your network is trained, save the model so you can load it later for making predictions. You probably want to save other things such as the mapping of classes to indices which you get from one of the image datasets: `image_datasets['train'].class_to_idx`. You can attach this to the model as an attribute which makes inference easier later on.\n",
    "\n",
    "```model.class_to_idx = image_datasets['train'].class_to_idx```\n",
    "\n",
    "Remember that you'll want to completely rebuild the model later so you can use it for inference. Make sure to include any information you need in the checkpoint. If you want to load the model and keep training, you'll want to save the number of epochs as well as the optimizer state, `optimizer.state_dict`. You'll likely want to use this trained model in the next part of the project, so best to save it now."
   ]
  },
  {
   "cell_type": "code",
   "execution_count": 11,
   "metadata": {},
   "outputs": [],
   "source": [
    "# TODO: Save the checkpoint \n",
    "file_path_check_point = \"./vgg.pth\"\n",
    "#\n",
    "torch.save({\"epoch\"                : epochs,\n",
    "            \"model_state_dict\"     : model.state_dict(),\n",
    "            \"optimizer_state_dict\" : optimizer.state_dict(),\n",
    "            \"cat_to_name\"          : cat_to_name,\n",
    "           }, file_path_check_point)"
   ]
  },
  {
   "cell_type": "markdown",
   "metadata": {},
   "source": [
    "## Loading the checkpoint\n",
    "\n",
    "At this point it's good to write a function that can load a checkpoint and rebuild the model. That way you can come back to this project and keep working on it without having to retrain the network."
   ]
  },
  {
   "cell_type": "code",
   "execution_count": 12,
   "metadata": {},
   "outputs": [],
   "source": [
    "# TODO: Write a function that loads a checkpoint and rebuilds the model\n",
    "def loadCheckpointMyVgg(file_path_check_point):\n",
    "    model, optimizer = createMyVgg()\n",
    "    check_point = torch.load(file_path_check_point)\n",
    "    #\n",
    "    model.load_state_dict(check_point[\"model_state_dict\"])\n",
    "    optimizer.load_state_dict(check_point[\"optimizer_state_dict\"])\n",
    "    epoch = check_point['epoch']\n",
    "    cat_to_name = check_point['cat_to_name']\n",
    "    return model, optimizer, epoch, cat_to_name"
   ]
  },
  {
   "cell_type": "code",
   "execution_count": 3,
   "metadata": {},
   "outputs": [
    {
     "ename": "NameError",
     "evalue": "name 'loadCheckpointMyVgg' is not defined",
     "output_type": "error",
     "traceback": [
      "\u001b[1;31m---------------------------------------------------------------------------\u001b[0m",
      "\u001b[1;31mNameError\u001b[0m                                 Traceback (most recent call last)",
      "\u001b[1;32m<ipython-input-3-ded57f6ed428>\u001b[0m in \u001b[0;36m<module>\u001b[1;34m\u001b[0m\n\u001b[0;32m      1\u001b[0m \u001b[1;31m# load model\u001b[0m\u001b[1;33m\u001b[0m\u001b[1;33m\u001b[0m\u001b[1;33m\u001b[0m\u001b[0m\n\u001b[0;32m      2\u001b[0m \u001b[0mfile_path_check_point\u001b[0m \u001b[1;33m=\u001b[0m \u001b[1;34m\"./vgg.pth\"\u001b[0m\u001b[1;33m\u001b[0m\u001b[1;33m\u001b[0m\u001b[0m\n\u001b[1;32m----> 3\u001b[1;33m \u001b[0mmodel\u001b[0m\u001b[1;33m,\u001b[0m \u001b[0moptimizer\u001b[0m\u001b[1;33m,\u001b[0m \u001b[0mepoch\u001b[0m \u001b[1;33m,\u001b[0m \u001b[0mcat_to_name\u001b[0m \u001b[1;33m=\u001b[0m \u001b[0mloadCheckpointMyVgg\u001b[0m\u001b[1;33m(\u001b[0m\u001b[0mfile_path_check_point\u001b[0m\u001b[1;33m)\u001b[0m\u001b[1;33m;\u001b[0m\u001b[1;33m\u001b[0m\u001b[1;33m\u001b[0m\u001b[0m\n\u001b[0m\u001b[0;32m      4\u001b[0m \u001b[0mmodel\u001b[0m\u001b[1;33m.\u001b[0m\u001b[0mto\u001b[0m\u001b[1;33m(\u001b[0m\u001b[0mdevice\u001b[0m\u001b[1;33m)\u001b[0m\u001b[1;33m\u001b[0m\u001b[1;33m\u001b[0m\u001b[0m\n",
      "\u001b[1;31mNameError\u001b[0m: name 'loadCheckpointMyVgg' is not defined"
     ]
    }
   ],
   "source": [
    "# load model\n",
    "file_path_check_point = \"./vgg.pth\"\n",
    "model, optimizer, epoch , cat_to_name = loadCheckpointMyVgg(file_path_check_point);\n",
    "model.to(device)"
   ]
  },
  {
   "cell_type": "markdown",
   "metadata": {},
   "source": [
    "# Inference for classification\n",
    "\n",
    "Now you'll write a function to use a trained network for inference. That is, you'll pass an image into the network and predict the class of the flower in the image. Write a function called `predict` that takes an image and a model, then returns the top $K$ most likely classes along with the probabilities. It should look like \n",
    "\n",
    "```python\n",
    "probs, classes = predict(image_path, model)\n",
    "print(probs)\n",
    "print(classes)\n",
    "> [ 0.01558163  0.01541934  0.01452626  0.01443549  0.01407339]\n",
    "> ['70', '3', '45', '62', '55']\n",
    "```\n",
    "\n",
    "First you'll need to handle processing the input image such that it can be used in your network. \n",
    "\n",
    "## Image Preprocessing\n",
    "\n",
    "You'll want to use `PIL` to load the image ([documentation](https://pillow.readthedocs.io/en/latest/reference/Image.html)). It's best to write a function that preprocesses the image so it can be used as input for the model. This function should process the images in the same manner used for training. \n",
    "\n",
    "First, resize the images where the shortest side is 256 pixels, keeping the aspect ratio. This can be done with the [`thumbnail`](http://pillow.readthedocs.io/en/3.1.x/reference/Image.html#PIL.Image.Image.thumbnail) or [`resize`](http://pillow.readthedocs.io/en/3.1.x/reference/Image.html#PIL.Image.Image.thumbnail) methods. Then you'll need to crop out the center 224x224 portion of the image.\n",
    "\n",
    "Color channels of images are typically encoded as integers 0-255, but the model expected floats 0-1. You'll need to convert the values. It's easiest with a Numpy array, which you can get from a PIL image like so `np_image = np.array(pil_image)`.\n",
    "\n",
    "As before, the network expects the images to be normalized in a specific way. For the means, it's `[0.485, 0.456, 0.406]` and for the standard deviations `[0.229, 0.224, 0.225]`. You'll want to subtract the means from each color channel, then divide by the standard deviation. \n",
    "\n",
    "And finally, PyTorch expects the color channel to be the first dimension but it's the third dimension in the PIL image and Numpy array. You can reorder dimensions using [`ndarray.transpose`](https://docs.scipy.org/doc/numpy-1.13.0/reference/generated/numpy.ndarray.transpose.html). The color channel needs to be first and retain the order of the other two dimensions."
   ]
  },
  {
   "cell_type": "code",
   "execution_count": 14,
   "metadata": {},
   "outputs": [],
   "source": [
    "def process_image(pil_image, value_resize=256, value_crop=224):\n",
    "    # TODO: Process a PIL image for use in a PyTorch model\n",
    "    ''' Scales, crops, and normalizes a PIL image for a PyTorch model,\n",
    "        returns an Numpy array\n",
    "    '''\n",
    "    width, height = pil_image.size\n",
    "\n",
    "    #------------------------------------------------------#\n",
    "    # resize\n",
    "    #value_resize = 256\n",
    "    #\n",
    "    if width > height:\n",
    "        width_resized  = int( width / height * value_resize )\n",
    "        height_resized = value_resize\n",
    "    else:\n",
    "        width_resized  = value_resize\n",
    "        height_resized = int( height / width * value_resize )\n",
    "    #    \n",
    "    pil_image_resized = pil_image.resize((width_resized, height_resized))\n",
    "\n",
    "    #------------------------------------------------------#\n",
    "    # crop\n",
    "    #value_crop = 224\n",
    "    #\n",
    "    left  = int( (width_resized/2) - (value_crop/2))\n",
    "    right = left + value_crop\n",
    "    upper = int( (height_resized/2) - (value_crop/2))\n",
    "    lower = upper + value_crop\n",
    "    #\n",
    "    pil_image_cropped = pil_image_resized.crop((left, upper, right, lower))\n",
    "\n",
    "    #------------------------------------------------------#\n",
    "    # ImageNet Infomation\n",
    "    mean_list = [0.485, 0.456, 0.406]\n",
    "    std_list  = [0.229, 0.224, 0.225]\n",
    "\n",
    "    #------------------------------------------------------#\n",
    "    # [Input File Information]\n",
    "    np_image1  = np.array(pil_image_cropped) # image to numpy array\n",
    "    np_image2  = np_image1.transpose(2,0,1).reshape(3,-1) # Channel, W, H\n",
    "    ave_images = np.mean(np_image2, axis=1) # mean of each Channel\n",
    "    std_images = np.std( np_image2, axis=1) # std  of each Channel\n",
    "\n",
    "    #------------------------------------------------------#\n",
    "    # [Normalized File Information : np_image2]\n",
    "    np_image2  = np_image2 / 255\n",
    "    ave_images = np.mean(np_image2, axis=1)\n",
    "    std_images = np.std( np_image2, axis=1)\n",
    "\n",
    "    for i in range(3):\n",
    "        np_image2[i,:] = (np_image2[i,:] - ave_images[i]) / std_images[i]\n",
    "    #\n",
    "    ave_images = np.mean(np_image2, axis=1)\n",
    "    std_images = np.std( np_image2, axis=1)    \n",
    " \n",
    "\n",
    "    #------------------------------------------------------#\n",
    "    # [Normalized File Information for ImageNet : np_image3]\n",
    "    # I think this is necessary to use pretrained model of ImageNet.\n",
    "    if 1:\n",
    "        for i in range(3):\n",
    "            np_image2[i,:] =  np_image2[i,:] * std_list[i] + mean_list[i]\n",
    "        #\n",
    "        ave_images = np.mean(np_image2, axis=1)\n",
    "        std_images = np.std(np_image2,  axis=1)\n",
    "        #\n",
    "        if 0:\n",
    "            print(\"Results of process_image\")\n",
    "            print(\"   mean = \", ave_images)\n",
    "            print(\"   std  = \", std_images)\n",
    "\n",
    "    #------------------------------------------------------#\n",
    "    # ReShape\n",
    "    np_image3 = np_image2.reshape(3,value_crop,value_crop)\n",
    "\n",
    "    return np_image3\n",
    "    "
   ]
  },
  {
   "cell_type": "markdown",
   "metadata": {},
   "source": [
    "To check your work, the function below converts a PyTorch tensor and displays it in the notebook. If your `process_image` function works, running the output through this function should return the original image (except for the cropped out portions)."
   ]
  },
  {
   "cell_type": "markdown",
   "metadata": {},
   "source": [
    "<H1>Is imshow function wrong?</H1>\n",
    "<ul>\n",
    "    <li>I can not understand [# Undo preprocessing] </li>\n",
    "    <li>[image] is already normalized as same as ImageNet <br> I think ...</li>\n",
    "    <li>OK : image = (image - mean) / std</li>\n",
    "    <li>NG : image = std * image + mean  </li>\n",
    "    <li>How do you think ?</li>\n",
    "    \n",
    "</ul>"
   ]
  },
  {
   "cell_type": "code",
   "execution_count": 26,
   "metadata": {},
   "outputs": [],
   "source": [
    "def imshow(image, ax=None, title=None):\n",
    "    \"\"\"Imshow for Tensor.\"\"\"\n",
    "    if ax is None:\n",
    "        fig, ax = plt.subplots()\n",
    "    \n",
    "    # PyTorch tensors assume the color channel is the first dimension\n",
    "    # but matplotlib assumes is the third dimension\n",
    "    image = image.numpy().transpose((1, 2, 0))\n",
    "    \n",
    "    # Undo preprocessing\n",
    "    mean = np.array([0.485, 0.456, 0.406])\n",
    "    std = np.array([0.229, 0.224, 0.225])\n",
    "    image = std * image + mean\n",
    "    \n",
    "    # Image needs to be clipped between 0 and 1 or it looks like noise when displayed\n",
    "    image = np.clip(image, 0, 1)\n",
    "    \n",
    "    ax.imshow(image)\n",
    "    plt.title(title)\n",
    "    \n",
    "    return ax"
   ]
  },
  {
   "cell_type": "markdown",
   "metadata": {},
   "source": [
    "## Class Prediction\n",
    "\n",
    "Once you can get images in the correct format, it's time to write a function for making predictions with your model. A common practice is to predict the top 5 or so (usually called top-$K$) most probable classes. You'll want to calculate the class probabilities then find the $K$ largest values.\n",
    "\n",
    "To get the top $K$ largest values in a tensor use [`x.topk(k)`](http://pytorch.org/docs/master/torch.html#torch.topk). This method returns both the highest `k` probabilities and the indices of those probabilities corresponding to the classes. You need to convert from these indices to the actual class labels using `class_to_idx` which hopefully you added to the model or from an `ImageFolder` you used to load the data ([see here](#Save-the-checkpoint)). Make sure to invert the dictionary so you get a mapping from index to class as well.\n",
    "\n",
    "Again, this method should take a path to an image and a model checkpoint, then return the probabilities and classes.\n",
    "\n",
    "```python\n",
    "probs, classes = predict(image_path, model)\n",
    "print(probs)\n",
    "print(classes)\n",
    "> [ 0.01558163  0.01541934  0.01452626  0.01443549  0.01407339]\n",
    "> ['70', '3', '45', '62', '55']\n",
    "```"
   ]
  },
  {
   "cell_type": "code",
   "execution_count": 16,
   "metadata": {},
   "outputs": [],
   "source": [
    "def predict(image_path, model, topk=5):\n",
    "    ''' Predict the class (or classes) of an image using a trained deep learning model.\n",
    "    '''\n",
    "    # TODO: Implement the code to predict the class from an image file\n",
    "    # load image \n",
    "    device    = torch.device(\"cuda:0\" if torch.cuda.is_available() else \"cpu\")\n",
    "    pil_image = Image.open(file_path_image)\n",
    "    \n",
    "    # pre_process image\n",
    "    np_image = process_image(pil_image, value_resize=256, value_crop=224)\n",
    "    image    = torch.from_numpy(np_image)  \n",
    "    image    = image.type(torch.FloatTensor)\n",
    "    image    = image.reshape(1,3,224,224)\n",
    "    image    = image.to(device)\n",
    "    \n",
    "    # predict\n",
    "    model.eval() # Dropout = OFF\n",
    "    log_ps = model(image)\n",
    "    model.train() # Dropout = ON\n",
    "    ps     = torch.exp(log_ps)\n",
    "    \n",
    "    # check top k class\n",
    "    top_p, top_class = ps.topk(topk, dim=1)\n",
    "    top_p     = top_p.cpu()\n",
    "    top_p     = top_p.detach().numpy().flatten()\n",
    "    top_class = top_class.cpu().numpy().flatten()\n",
    "    category  = top_class + 1\n",
    "    \n",
    "    # get names\n",
    "    top_name = []\n",
    "    #\n",
    "    for i in range(topk):\n",
    "        top_name.append( cat_to_name[ str( category[i] )] )\n",
    "    #\n",
    "    return top_p, top_class, top_name    "
   ]
  },
  {
   "cell_type": "markdown",
   "metadata": {},
   "source": [
    "## Sanity Checking\n",
    "\n",
    "Now that you can use a trained model for predictions, check to make sure it makes sense. Even if the testing accuracy is high, it's always good to check that there aren't obvious bugs. Use `matplotlib` to plot the probabilities for the top 5 classes as a bar graph, along with the input image. It should look like this:\n",
    "\n",
    "<img src='assets/inference_example.png' width=300px>\n",
    "\n",
    "You can convert from the class integer encoding to actual flower names with the `cat_to_name.json` file (should have been loaded earlier in the notebook). To show a PyTorch tensor as an image, use the `imshow` function defined above."
   ]
  },
  {
   "cell_type": "code",
   "execution_count": 17,
   "metadata": {},
   "outputs": [
    {
     "name": "stdout",
     "output_type": "stream",
     "text": [
      "top_p =  [0.00141553 0.00159374 0.00346649 0.00823453 0.97975284]\n",
      "top_name =  ['spear thistle' 'bishop of llandaff' 'californian poppy' 'sweet william'\n",
      " 'pink primrose']\n"
     ]
    },
    {
     "data": {
      "image/png": "[encoded data removed]",
      "text/plain": [
       "<Figure size 432x288 with 1 Axes>"
      ]
     },
     "metadata": {
      "needs_background": "light"
     },
     "output_type": "display_data"
    }
   ],
   "source": [
    "# TODO: Display an image along with the top 5 classes\n",
    "file_path_image = './flowers/train/1/image_06734.jpg'\n",
    "\n",
    "# predict\n",
    "top_p, top_class, top_name = predict(file_path_image, model, topk=5)\n",
    "top_p    = np.flipud( top_p )\n",
    "top_name = np.flipud( top_name )\n",
    "\n",
    "# show results\n",
    "print(\"top_p = \", top_p)\n",
    "print(\"top_name = \", top_name)\n",
    "\n",
    "# show picture\n",
    "pil_image = Image.open(file_path_image)\n",
    "np_image  = process_image(pil_image)\n",
    "imshow( torch.from_numpy(np_image) );\n",
    "plt.title(cat_to_name[\"1\"]);"
   ]
  },
  {
   "cell_type": "code",
   "execution_count": 18,
   "metadata": {},
   "outputs": [
    {
     "data": {
      "image/png": "[encoded data removed]",
      "text/plain": [
       "<Figure size 432x288 with 1 Axes>"
      ]
     },
     "metadata": {
      "needs_background": "light"
     },
     "output_type": "display_data"
    }
   ],
   "source": [
    "# bar-graph\n",
    "y_data = np.linspace( 0, 4, 5)\n",
    "plt.barh(y_data, top_p, height=0.4, align=\"center\");\n",
    "plt.yticks(y_data,top_name);\n",
    "plt.grid()\n",
    "plt.title(cat_to_name[\"1\"]);"
   ]
  },
  {
   "cell_type": "code",
   "execution_count": 27,
   "metadata": {},
   "outputs": [
    {
     "data": {
      "image/png": "[encoded data removed]",
      "text/plain": [
       "<Figure size 432x288 with 2 Axes>"
      ]
     },
     "metadata": {
      "needs_background": "light"
     },
     "output_type": "display_data"
    }
   ],
   "source": [
    "ax = plt.subplot(2,1,1)\n",
    "imshow( torch.from_numpy(np_image) , ax, cat_to_name[\"1\"]);\n",
    "ax = plt.subplot(2,1,2)\n",
    "y_data = np.linspace( 0, 4, 5)\n",
    "plt.barh(y_data, top_p, height=0.4, align=\"center\");\n",
    "plt.yticks(y_data,top_name);\n",
    "plt.grid()"
   ]
  },
  {
   "cell_type": "code",
   "execution_count": null,
   "metadata": {},
   "outputs": [],
   "source": []
  }
 ],
 "metadata": {
  "kernelspec": {
   "display_name": "Python 3",
   "language": "python",
   "name": "python3"
  },
  "language_info": {
   "codemirror_mode": {
    "name": "ipython",
    "version": 3
   },
   "file_extension": ".py",
   "mimetype": "text/x-python",
   "name": "python",
   "nbconvert_exporter": "python",
   "pygments_lexer": "ipython3",
   "version": "3.6.8"
  }
 },
 "nbformat": 4,
 "nbformat_minor": 2
}
